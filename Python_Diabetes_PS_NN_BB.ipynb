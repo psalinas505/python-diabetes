{
  "nbformat": 4,
  "nbformat_minor": 0,
  "metadata": {
    "colab": {
      "name": "Python_Diabetes_PS-NN-BB.ipynb",
      "provenance": [],
      "collapsed_sections": [],
      "authorship_tag": "ABX9TyNOmDkV7UEJTXCgBUS/wSfZ",
      "include_colab_link": true
    },
    "kernelspec": {
      "name": "python3",
      "display_name": "Python 3"
    }
  },
  "cells": [
    {
      "cell_type": "markdown",
      "metadata": {
        "id": "view-in-github",
        "colab_type": "text"
      },
      "source": [
        "<a href=\"https://colab.research.google.com/github/psalinas505/python-diabetes/blob/Markdown_additions/Python_Diabetes_PS_NN_BB.ipynb\" target=\"_parent\"><img src=\"https://colab.research.google.com/assets/colab-badge.svg\" alt=\"Open In Colab\"/></a>"
      ]
    },
    {
      "cell_type": "markdown",
      "metadata": {
        "id": "btdvrfOX97JO"
      },
      "source": [
        "# ITExperience Final ML Python Project\n"
      ]
    },
    {
      "cell_type": "markdown",
      "metadata": {
        "id": "6aX3K_vJeUYL"
      },
      "source": [
        "## Project Description\n"
      ]
    },
    {
      "cell_type": "markdown",
      "metadata": {
        "id": "0BJGlLqlfQVn"
      },
      "source": [
        "**Python Final Project**\n",
        "\n",
        "Teammates: Pablo Salinas, Nathalie Nieto, and Brittany Brittany\n",
        "\n",
        "\n",
        "My Python Project is on Diabetes. \n",
        "\n",
        "The dataset is from the National Institute of Diabetes and Digestive and Kidney Diseases. \n",
        "\n",
        "Content:\n",
        "The datasets consists of several medical predictor variables and one target variable; the Outcome. \n",
        "\n",
        "Predictor variables includes the number of pregnancies the patient has had, their BMI, insulin level, age, etc.\n",
        "\n",
        "Variables:\n",
        "Pregnancies,\n",
        "Glucose,\n",
        "BloodPressure,\n",
        "SkinThickness,\n",
        "Insulin,\n",
        "BMI,\n",
        "DiabetesPedigreeFunction,\n",
        "Age,\n",
        "and Outcome\n"
      ]
    },
    {
      "cell_type": "markdown",
      "metadata": {
        "id": "Q44Whupcg7nD"
      },
      "source": [
        "**References:**\n",
        "\n",
        "Towards Data Science: ML Workflow\n",
        "https://towardsdatascience.com/machine-learning-workflow-on-diabetes-data-part-01-573864fcc6b8\n",
        "\n",
        "\n",
        "Towards Data Science: Prima Indian Diabetes Prediction\n",
        "https://towardsdatascience.com/pima-indian-diabetes-prediction-7573698bd5fe\n",
        "\n",
        "\n",
        "BMC Medical Informatics and Decision Making\n",
        "https://bmcmedinformdecismak.biomedcentral.com/articles/10.1186/s12911-019-0918-5\n",
        "\n",
        "\n",
        "Kaggle: Prima Indians Diabetes Database\n",
        "https://www.kaggle.com/uciml/pima-indians-diabetes-database\n",
        "\n",
        "\n",
        "GitHub: ML with Python\n",
        "https://github.com/LahiruTjay/Machine-Learning-With-Python/blob/master/datasets/diabetes.csv\n"
      ]
    },
    {
      "cell_type": "markdown",
      "metadata": {
        "id": "LNI_hGlvelwn"
      },
      "source": [
        "## Libraries and Dataset"
      ]
    },
    {
      "cell_type": "code",
      "metadata": {
        "id": "O4VFtcxb95u4"
      },
      "source": [
        "# Import Libraries and Dataset\n",
        "\n",
        "import pandas as pd\n",
        "import numpy as np\n",
        "import matplotlib.pyplot as plt\n",
        "%matplotlib inline\n",
        "\n",
        "#import seaborn as sns   ???\n"
      ],
      "execution_count": null,
      "outputs": []
    },
    {
      "cell_type": "code",
      "metadata": {
        "id": "K6fUuYC5n57n"
      },
      "source": [
        "# Bring in my dataset\n",
        "\n",
        "#diabetes = pd.read_csv('https://github.com/psalinas505/python-diabetes/blob/main/diabetes.csv')\n",
        "\n",
        "\n",
        "'''\n",
        "# And examine the dataset \n",
        "#diabetes.head()\n",
        "\n",
        "'''\n"
      ],
      "execution_count": null,
      "outputs": []
    },
    {
      "cell_type": "code",
      "metadata": {
        "id": "JMl9AHQ8oXyw"
      },
      "source": [
        "# Find the dimensions of the data set using the panda Dataframes: ‘shape’ attribute\n",
        "\n",
        "\n",
        "\n"
      ],
      "execution_count": null,
      "outputs": []
    },
    {
      "cell_type": "markdown",
      "metadata": {
        "id": "8iQjYtOkexvZ"
      },
      "source": [
        "## Visualizations"
      ]
    },
    {
      "cell_type": "code",
      "metadata": {
        "id": "Ttu24w0polBk"
      },
      "source": [
        "# Visualization of data"
      ],
      "execution_count": null,
      "outputs": []
    },
    {
      "cell_type": "code",
      "metadata": {
        "id": "GskKyH80edPI"
      },
      "source": [
        "# Data Cleaning"
      ],
      "execution_count": null,
      "outputs": []
    },
    {
      "cell_type": "code",
      "metadata": {
        "id": "sxssHSwSefPH"
      },
      "source": [
        "# Feature Engineering\n"
      ],
      "execution_count": null,
      "outputs": []
    },
    {
      "cell_type": "markdown",
      "metadata": {
        "id": "E21n4kqDe606"
      },
      "source": [
        "## Model Selection\n"
      ]
    },
    {
      "cell_type": "code",
      "metadata": {
        "id": "8U9sU8GxeorM"
      },
      "source": [
        "# Model Selection\n"
      ],
      "execution_count": null,
      "outputs": []
    }
  ]
}