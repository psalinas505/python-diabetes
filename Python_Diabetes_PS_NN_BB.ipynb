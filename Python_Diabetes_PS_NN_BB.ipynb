{
  "nbformat": 4,
  "nbformat_minor": 0,
  "metadata": {
    "colab": {
      "name": "Python_Diabetes_PS-NN-BB.ipynb",
      "provenance": [],
      "collapsed_sections": [],
      "authorship_tag": "ABX9TyMSCGolOFExCMhKgGYX+Odz",
      "include_colab_link": true
    },
    "kernelspec": {
      "name": "python3",
      "display_name": "Python 3"
    }
  },
  "cells": [
    {
      "cell_type": "markdown",
      "metadata": {
        "id": "view-in-github",
        "colab_type": "text"
      },
      "source": [
        "<a href=\"https://colab.research.google.com/github/psalinas505/python-diabetes/blob/URLdatasetcorrected/Python_Diabetes_PS_NN_BB.ipynb\" target=\"_parent\"><img src=\"https://colab.research.google.com/assets/colab-badge.svg\" alt=\"Open In Colab\"/></a>"
      ]
    },
    {
      "cell_type": "markdown",
      "metadata": {
        "id": "btdvrfOX97JO"
      },
      "source": [
        "# ITExperience Final ML Python Project\n"
      ]
    },
    {
      "cell_type": "markdown",
      "metadata": {
        "id": "6aX3K_vJeUYL"
      },
      "source": [
        "## Project Description\n"
      ]
    },
    {
      "cell_type": "markdown",
      "metadata": {
        "id": "0BJGlLqlfQVn"
      },
      "source": [
        "**Python Final Project**\n",
        "\n",
        "Teammates: Pablo Salinas, Nathalie Nieto, and Brittany Brittany\n",
        "\n",
        "\n",
        "My Python Project is on Diabetes. \n",
        "\n",
        "The dataset is from the National Institute of Diabetes and Digestive and Kidney Diseases. \n",
        "\n",
        "Content:\n",
        "The datasets consists of several medical predictor variables and one target variable; the Outcome. \n",
        "\n",
        "Predictor variables includes the number of pregnancies the patient has had, their BMI, insulin level, age, etc.\n",
        "\n",
        "Variables:\n",
        "Pregnancies,\n",
        "Glucose,\n",
        "BloodPressure,\n",
        "SkinThickness,\n",
        "Insulin,\n",
        "BMI,\n",
        "DiabetesPedigreeFunction,\n",
        "Age,\n",
        "and Outcome\n"
      ]
    },
    {
      "cell_type": "markdown",
      "metadata": {
        "id": "Q44Whupcg7nD"
      },
      "source": [
        "**References:**\n",
        "\n",
        "Towards Data Science: ML Workflow\n",
        "https://towardsdatascience.com/machine-learning-workflow-on-diabetes-data-part-01-573864fcc6b8\n",
        "\n",
        "\n",
        "Towards Data Science: Prima Indian Diabetes Prediction\n",
        "https://towardsdatascience.com/pima-indian-diabetes-prediction-7573698bd5fe\n",
        "\n",
        "\n",
        "BMC Medical Informatics and Decision Making\n",
        "https://bmcmedinformdecismak.biomedcentral.com/articles/10.1186/s12911-019-0918-5\n",
        "\n",
        "\n",
        "Kaggle: Prima Indians Diabetes Database\n",
        "https://www.kaggle.com/uciml/pima-indians-diabetes-database\n",
        "\n",
        "\n",
        "GitHub: ML with Python\n",
        "https://github.com/LahiruTjay/Machine-Learning-With-Python/blob/master/datasets/diabetes.csv\n"
      ]
    },
    {
      "cell_type": "markdown",
      "metadata": {
        "id": "LNI_hGlvelwn"
      },
      "source": [
        "## Libraries and Dataset"
      ]
    },
    {
      "cell_type": "code",
      "metadata": {
        "id": "O4VFtcxb95u4"
      },
      "source": [
        "# Import Libraries and Dataset\n",
        "\n",
        "import pandas as pd\n",
        "import numpy as np\n",
        "import matplotlib.pyplot as plt\n",
        "%matplotlib inline\n",
        "\n",
        "#import seaborn as sns   ???\n"
      ],
      "execution_count": 1,
      "outputs": []
    },
    {
      "cell_type": "code",
      "metadata": {
        "id": "K6fUuYC5n57n"
      },
      "source": [
        "# Bring in my dataset\n",
        "\n",
        "diabetes = pd.read_csv('https://raw.githubusercontent.com/psalinas505/python-diabetes/main/diabetes.csv')\n"
      ],
      "execution_count": 2,
      "outputs": []
    },
    {
      "cell_type": "code",
      "metadata": {
        "id": "euaaHstWOaS5",
        "outputId": "588be270-baf5-494d-8821-9f2abc30aff0",
        "colab": {
          "base_uri": "https://localhost:8080/",
          "height": 203
        }
      },
      "source": [
        "# And examine the dataset \n",
        "\n",
        "diabetes.head()"
      ],
      "execution_count": 3,
      "outputs": [
        {
          "output_type": "execute_result",
          "data": {
            "text/html": [
              "<div>\n",
              "<style scoped>\n",
              "    .dataframe tbody tr th:only-of-type {\n",
              "        vertical-align: middle;\n",
              "    }\n",
              "\n",
              "    .dataframe tbody tr th {\n",
              "        vertical-align: top;\n",
              "    }\n",
              "\n",
              "    .dataframe thead th {\n",
              "        text-align: right;\n",
              "    }\n",
              "</style>\n",
              "<table border=\"1\" class=\"dataframe\">\n",
              "  <thead>\n",
              "    <tr style=\"text-align: right;\">\n",
              "      <th></th>\n",
              "      <th>Pregnancies</th>\n",
              "      <th>Glucose</th>\n",
              "      <th>BloodPressure</th>\n",
              "      <th>SkinThickness</th>\n",
              "      <th>Insulin</th>\n",
              "      <th>BMI</th>\n",
              "      <th>DiabetesPedigreeFunction</th>\n",
              "      <th>Age</th>\n",
              "      <th>Outcome</th>\n",
              "    </tr>\n",
              "  </thead>\n",
              "  <tbody>\n",
              "    <tr>\n",
              "      <th>0</th>\n",
              "      <td>6</td>\n",
              "      <td>148</td>\n",
              "      <td>72</td>\n",
              "      <td>35</td>\n",
              "      <td>0</td>\n",
              "      <td>33.6</td>\n",
              "      <td>0.627</td>\n",
              "      <td>50</td>\n",
              "      <td>1</td>\n",
              "    </tr>\n",
              "    <tr>\n",
              "      <th>1</th>\n",
              "      <td>1</td>\n",
              "      <td>85</td>\n",
              "      <td>66</td>\n",
              "      <td>29</td>\n",
              "      <td>0</td>\n",
              "      <td>26.6</td>\n",
              "      <td>0.351</td>\n",
              "      <td>31</td>\n",
              "      <td>0</td>\n",
              "    </tr>\n",
              "    <tr>\n",
              "      <th>2</th>\n",
              "      <td>8</td>\n",
              "      <td>183</td>\n",
              "      <td>64</td>\n",
              "      <td>0</td>\n",
              "      <td>0</td>\n",
              "      <td>23.3</td>\n",
              "      <td>0.672</td>\n",
              "      <td>32</td>\n",
              "      <td>1</td>\n",
              "    </tr>\n",
              "    <tr>\n",
              "      <th>3</th>\n",
              "      <td>1</td>\n",
              "      <td>89</td>\n",
              "      <td>66</td>\n",
              "      <td>23</td>\n",
              "      <td>94</td>\n",
              "      <td>28.1</td>\n",
              "      <td>0.167</td>\n",
              "      <td>21</td>\n",
              "      <td>0</td>\n",
              "    </tr>\n",
              "    <tr>\n",
              "      <th>4</th>\n",
              "      <td>0</td>\n",
              "      <td>137</td>\n",
              "      <td>40</td>\n",
              "      <td>35</td>\n",
              "      <td>168</td>\n",
              "      <td>43.1</td>\n",
              "      <td>2.288</td>\n",
              "      <td>33</td>\n",
              "      <td>1</td>\n",
              "    </tr>\n",
              "  </tbody>\n",
              "</table>\n",
              "</div>"
            ],
            "text/plain": [
              "   Pregnancies  Glucose  BloodPressure  ...  DiabetesPedigreeFunction  Age  Outcome\n",
              "0            6      148             72  ...                     0.627   50        1\n",
              "1            1       85             66  ...                     0.351   31        0\n",
              "2            8      183             64  ...                     0.672   32        1\n",
              "3            1       89             66  ...                     0.167   21        0\n",
              "4            0      137             40  ...                     2.288   33        1\n",
              "\n",
              "[5 rows x 9 columns]"
            ]
          },
          "metadata": {
            "tags": []
          },
          "execution_count": 3
        }
      ]
    },
    {
      "cell_type": "code",
      "metadata": {
        "id": "JMl9AHQ8oXyw"
      },
      "source": [
        "# Find the dimensions of the data set using the panda Dataframes: ‘shape’ attribute\n",
        "\n",
        "\n",
        "\n"
      ],
      "execution_count": null,
      "outputs": []
    },
    {
      "cell_type": "markdown",
      "metadata": {
        "id": "8iQjYtOkexvZ"
      },
      "source": [
        "## Visualizations"
      ]
    },
    {
      "cell_type": "code",
      "metadata": {
        "id": "Ttu24w0polBk"
      },
      "source": [
        "# Visualization of data"
      ],
      "execution_count": null,
      "outputs": []
    },
    {
      "cell_type": "code",
      "metadata": {
        "id": "GskKyH80edPI"
      },
      "source": [
        "# Data Cleaning"
      ],
      "execution_count": null,
      "outputs": []
    },
    {
      "cell_type": "code",
      "metadata": {
        "id": "sxssHSwSefPH"
      },
      "source": [
        "# Feature Engineering\n"
      ],
      "execution_count": null,
      "outputs": []
    },
    {
      "cell_type": "markdown",
      "metadata": {
        "id": "E21n4kqDe606"
      },
      "source": [
        "## Model Selection\n"
      ]
    },
    {
      "cell_type": "code",
      "metadata": {
        "id": "8U9sU8GxeorM"
      },
      "source": [
        "# Model Selection\n"
      ],
      "execution_count": null,
      "outputs": []
    }
  ]
}