{
 "cells": [
  {
   "cell_type": "markdown",
   "metadata": {
    "colab_type": "text",
    "id": "view-in-github"
   },
   "source": [
    "<a href=\"https://colab.research.google.com/github/psalinas505/python-diabetes/blob/UCIdataset/Python_Diabetes_PS_NN_BB.ipynb\" target=\"_parent\"><img src=\"https://colab.research.google.com/assets/colab-badge.svg\" alt=\"Open In Colab\"/></a>"
   ]
  },
  {
   "cell_type": "markdown",
   "metadata": {
    "id": "btdvrfOX97JO"
   },
   "source": [
    "# ITExperience Final ML Python Project\n"
   ]
  },
  {
   "cell_type": "markdown",
   "metadata": {
    "id": "6aX3K_vJeUYL"
   },
   "source": [
    "## Project Description\n"
   ]
  },
  {
   "cell_type": "markdown",
   "metadata": {
    "id": "0BJGlLqlfQVn"
   },
   "source": [
    "**Python Final Project**\n",
    "\n",
    "Teammates: Pablo Salinas, Nathalie Nieto, and Brittany Brittany\n",
    "\n",
    "\n",
    "My Python Project is on Diabetes. \n",
    "\n",
    "The dataset is from the National Institute of Diabetes and Digestive and Kidney Diseases. \n",
    "\n",
    "Content:\n",
    "The datasets consists of several medical predictor variables and one target variable; the Outcome. \n",
    "\n",
    "Predictor variables includes the number of pregnancies the patient has had, their BMI, insulin level, age, etc.\n",
    "\n",
    "Variables:\n",
    "Pregnancies,\n",
    "Glucose,\n",
    "BloodPressure,\n",
    "SkinThickness,\n",
    "Insulin,\n",
    "BMI,\n",
    "DiabetesPedigreeFunction,\n",
    "Age,\n",
    "and Outcome\n"
   ]
  },
  {
   "cell_type": "markdown",
   "metadata": {
    "id": "Q44Whupcg7nD"
   },
   "source": [
    "**References:**\n",
    "\n",
    "Towards Data Science: ML Workflow\n",
    "https://towardsdatascience.com/machine-learning-workflow-on-diabetes-data-part-01-573864fcc6b8\n",
    "\n",
    "\n",
    "Towards Data Science: Prima Indian Diabetes Prediction\n",
    "https://towardsdatascience.com/pima-indian-diabetes-prediction-7573698bd5fe\n",
    "\n",
    "\n",
    "BMC Medical Informatics and Decision Making\n",
    "https://bmcmedinformdecismak.biomedcentral.com/articles/10.1186/s12911-019-0918-5\n",
    "\n",
    "\n",
    "Kaggle: Prima Indians Diabetes Database\n",
    "https://www.kaggle.com/uciml/pima-indians-diabetes-database\n",
    "\n",
    "\n",
    "GitHub: ML with Python\n",
    "https://github.com/LahiruTjay/Machine-Learning-With-Python/blob/master/datasets/diabetes.csv\n"
   ]
  },
  {
   "cell_type": "markdown",
   "metadata": {
    "id": "LNI_hGlvelwn"
   },
   "source": [
    "## Libraries and Dataset"
   ]
  },
  {
   "cell_type": "code",
   "execution_count": 21,
   "metadata": {
    "id": "O4VFtcxb95u4"
   },
   "outputs": [],
   "source": [
    "# Import Libraries and Dataset\n",
    "\n",
    "import pandas as pd\n",
    "import numpy as np\n",
    "import matplotlib.pyplot as plt\n",
    "%matplotlib inline\n",
    "\n",
    "#import seaborn as sns   ???\n"
   ]
  },
  {
   "cell_type": "code",
   "execution_count": 22,
   "metadata": {
    "id": "K6fUuYC5n57n"
   },
   "outputs": [],
   "source": [
    "# Bring in my dataset\n",
    "\n",
    "diabetes = pd.read_csv('https://raw.githubusercontent.com/psalinas505/python-diabetes/main/diabetes.csv')\n"
   ]
  },
  {
   "cell_type": "code",
   "execution_count": 23,
   "metadata": {
    "colab": {
     "base_uri": "https://localhost:8080/",
     "height": 203
    },
    "id": "euaaHstWOaS5",
    "outputId": "21846174-322d-458a-a5ce-71035bc6d0ab"
   },
   "outputs": [
    {
     "data": {
      "text/html": [
       "<div>\n",
       "<style scoped>\n",
       "    .dataframe tbody tr th:only-of-type {\n",
       "        vertical-align: middle;\n",
       "    }\n",
       "\n",
       "    .dataframe tbody tr th {\n",
       "        vertical-align: top;\n",
       "    }\n",
       "\n",
       "    .dataframe thead th {\n",
       "        text-align: right;\n",
       "    }\n",
       "</style>\n",
       "<table border=\"1\" class=\"dataframe\">\n",
       "  <thead>\n",
       "    <tr style=\"text-align: right;\">\n",
       "      <th></th>\n",
       "      <th>Pregnancies</th>\n",
       "      <th>Glucose</th>\n",
       "      <th>BloodPressure</th>\n",
       "      <th>SkinThickness</th>\n",
       "      <th>Insulin</th>\n",
       "      <th>BMI</th>\n",
       "      <th>DiabetesPedigreeFunction</th>\n",
       "      <th>Age</th>\n",
       "      <th>Outcome</th>\n",
       "    </tr>\n",
       "  </thead>\n",
       "  <tbody>\n",
       "    <tr>\n",
       "      <th>0</th>\n",
       "      <td>6</td>\n",
       "      <td>148</td>\n",
       "      <td>72</td>\n",
       "      <td>35</td>\n",
       "      <td>0</td>\n",
       "      <td>33.6</td>\n",
       "      <td>0.627</td>\n",
       "      <td>50</td>\n",
       "      <td>1</td>\n",
       "    </tr>\n",
       "    <tr>\n",
       "      <th>1</th>\n",
       "      <td>1</td>\n",
       "      <td>85</td>\n",
       "      <td>66</td>\n",
       "      <td>29</td>\n",
       "      <td>0</td>\n",
       "      <td>26.6</td>\n",
       "      <td>0.351</td>\n",
       "      <td>31</td>\n",
       "      <td>0</td>\n",
       "    </tr>\n",
       "    <tr>\n",
       "      <th>2</th>\n",
       "      <td>8</td>\n",
       "      <td>183</td>\n",
       "      <td>64</td>\n",
       "      <td>0</td>\n",
       "      <td>0</td>\n",
       "      <td>23.3</td>\n",
       "      <td>0.672</td>\n",
       "      <td>32</td>\n",
       "      <td>1</td>\n",
       "    </tr>\n",
       "    <tr>\n",
       "      <th>3</th>\n",
       "      <td>1</td>\n",
       "      <td>89</td>\n",
       "      <td>66</td>\n",
       "      <td>23</td>\n",
       "      <td>94</td>\n",
       "      <td>28.1</td>\n",
       "      <td>0.167</td>\n",
       "      <td>21</td>\n",
       "      <td>0</td>\n",
       "    </tr>\n",
       "    <tr>\n",
       "      <th>4</th>\n",
       "      <td>0</td>\n",
       "      <td>137</td>\n",
       "      <td>40</td>\n",
       "      <td>35</td>\n",
       "      <td>168</td>\n",
       "      <td>43.1</td>\n",
       "      <td>2.288</td>\n",
       "      <td>33</td>\n",
       "      <td>1</td>\n",
       "    </tr>\n",
       "  </tbody>\n",
       "</table>\n",
       "</div>"
      ],
      "text/plain": [
       "   Pregnancies  Glucose  BloodPressure  SkinThickness  Insulin   BMI  \\\n",
       "0            6      148             72             35        0  33.6   \n",
       "1            1       85             66             29        0  26.6   \n",
       "2            8      183             64              0        0  23.3   \n",
       "3            1       89             66             23       94  28.1   \n",
       "4            0      137             40             35      168  43.1   \n",
       "\n",
       "   DiabetesPedigreeFunction  Age  Outcome  \n",
       "0                     0.627   50        1  \n",
       "1                     0.351   31        0  \n",
       "2                     0.672   32        1  \n",
       "3                     0.167   21        0  \n",
       "4                     2.288   33        1  "
      ]
     },
     "execution_count": 23,
     "metadata": {},
     "output_type": "execute_result"
    }
   ],
   "source": [
    "# And examine the dataset \n",
    "\n",
    "diabetes.head()"
   ]
  },
  {
   "cell_type": "code",
   "execution_count": 24,
   "metadata": {},
   "outputs": [
    {
     "name": "stdout",
     "output_type": "stream",
     "text": [
      "Index(['Pregnancies', 'Glucose', 'BloodPressure', 'SkinThickness', 'Insulin',\n",
      "       'BMI', 'DiabetesPedigreeFunction', 'Age', 'Outcome'],\n",
      "      dtype='object')\n"
     ]
    }
   ],
   "source": [
    "print(diabetes.columns)"
   ]
  },
  {
   "cell_type": "code",
   "execution_count": 25,
   "metadata": {},
   "outputs": [
    {
     "name": "stdout",
     "output_type": "stream",
     "text": [
      "       Pregnancies     Glucose  BloodPressure  SkinThickness     Insulin  \\\n",
      "count   768.000000  768.000000     768.000000     768.000000  768.000000   \n",
      "mean      3.845052  120.894531      69.105469      20.536458   79.799479   \n",
      "std       3.369578   31.972618      19.355807      15.952218  115.244002   \n",
      "min       0.000000    0.000000       0.000000       0.000000    0.000000   \n",
      "25%       1.000000   99.000000      62.000000       0.000000    0.000000   \n",
      "50%       3.000000  117.000000      72.000000      23.000000   30.500000   \n",
      "75%       6.000000  140.250000      80.000000      32.000000  127.250000   \n",
      "max      17.000000  199.000000     122.000000      99.000000  846.000000   \n",
      "\n",
      "              BMI  DiabetesPedigreeFunction         Age     Outcome  \n",
      "count  768.000000                768.000000  768.000000  768.000000  \n",
      "mean    31.992578                  0.471876   33.240885    0.348958  \n",
      "std      7.884160                  0.331329   11.760232    0.476951  \n",
      "min      0.000000                  0.078000   21.000000    0.000000  \n",
      "25%     27.300000                  0.243750   24.000000    0.000000  \n",
      "50%     32.000000                  0.372500   29.000000    0.000000  \n",
      "75%     36.600000                  0.626250   41.000000    1.000000  \n",
      "max     67.100000                  2.420000   81.000000    1.000000  \n"
     ]
    }
   ],
   "source": [
    "print(diabetes.describe())"
   ]
  },
  {
   "cell_type": "code",
   "execution_count": 26,
   "metadata": {},
   "outputs": [
    {
     "name": "stdout",
     "output_type": "stream",
     "text": [
      "Pregnancies                   5.000\n",
      "Glucose                     116.000\n",
      "BloodPressure                74.000\n",
      "SkinThickness                 0.000\n",
      "Insulin                       0.000\n",
      "BMI                          25.600\n",
      "DiabetesPedigreeFunction      0.201\n",
      "Age                          30.000\n",
      "Outcome                       0.000\n",
      "Name: 5, dtype: float64\n"
     ]
    }
   ],
   "source": [
    "# example an element of the dataset\n",
    "print(diabetes.iloc[5])"
   ]
  },
  {
   "cell_type": "code",
   "execution_count": 27,
   "metadata": {},
   "outputs": [
    {
     "data": {
      "text/plain": [
       "(768, 9)"
      ]
     },
     "execution_count": 27,
     "metadata": {},
     "output_type": "execute_result"
    }
   ],
   "source": [
    "diabetes.shape"
   ]
  },
  {
   "cell_type": "code",
   "execution_count": 28,
   "metadata": {},
   "outputs": [
    {
     "data": {
      "image/png": "[encoded data removed]",
      "text/plain": [
       "<Figure size 1440x1440 with 9 Axes>"
      ]
     },
     "metadata": {
      "needs_background": "light"
     },
     "output_type": "display_data"
    }
   ],
   "source": [
    "# plot hist of features\n",
    "\n",
    "diabetes.hist(figsize= (20,20))\n",
    "plt.show()"
   ]
  },
  {
   "cell_type": "code",
   "execution_count": 54,
   "metadata": {},
   "outputs": [
    {
     "name": "stdout",
     "output_type": "stream",
     "text": [
      "0.536\n",
      "Positive diabetes cases : 268\n",
      "Negative diabetes cases : 500\n"
     ]
    }
   ],
   "source": [
    "diab_pos = diabetes[diabetes['Outcome']==1]\n",
    "diab_neg = diabetes[diabetes['Outcome']==0]\n",
    "\n",
    "outlier_frac = len(diab_pos) / len(diab_neg)\n",
    "print(outlier_frac)\n",
    "\n",
    "print(f'Positive diabetes cases : {len(diab_pos)}')\n",
    "print(f'Negative diabetes cases : {len(diab_neg)}')"
   ]
  },
  {
   "cell_type": "code",
   "execution_count": 55,
   "metadata": {},
   "outputs": [],
   "source": [
    "# 53% representation of diabetes positive cases"
   ]
  },
  {
   "cell_type": "code",
   "execution_count": 56,
   "metadata": {},
   "outputs": [],
   "source": [
    "# correlation matrix\n",
    "import seaborn as sns"
   ]
  },
  {
   "cell_type": "code",
   "execution_count": 57,
   "metadata": {},
   "outputs": [
    {
     "data": {
      "image/png": "[encoded data removed]",
      "text/plain": [
       "<Figure size 864x648 with 2 Axes>"
      ]
     },
     "metadata": {
      "needs_background": "light"
     },
     "output_type": "display_data"
    }
   ],
   "source": [
    "corr_mat = diabetes.corr()\n",
    "fig = plt.figure(figsize= (12,9))\n",
    "\n",
    "sns.heatmap(corr_mat, vmax=.8, square = True)\n",
    "plt.show()"
   ]
  },
  {
   "cell_type": "code",
   "execution_count": 58,
   "metadata": {
    "id": "VHz9pFKGV_ME"
   },
   "outputs": [
    {
     "name": "stdout",
     "output_type": "stream",
     "text": [
      "(768, 8)\n",
      "(768,)\n"
     ]
    }
   ],
   "source": [
    "# get the features in a list\n",
    "columns = diabetes.columns.to_list()\n",
    "\n",
    "# take out the target column\n",
    "columns = [i for i in columns if i not in [\"Outcome\"]]\n",
    "\n",
    "target = \"Outcome\"\n",
    "\n",
    "X = diabetes[columns]\n",
    "y = diabetes[target]\n",
    "\n",
    "# check dimensions of var\n",
    "print(X.shape)\n",
    "print(y.shape)"
   ]
  },
  {
   "cell_type": "code",
   "execution_count": null,
   "metadata": {},
   "outputs": [],
   "source": []
  },
  {
   "cell_type": "code",
   "execution_count": 20,
   "metadata": {},
   "outputs": [],
   "source": []
  },
  {
   "cell_type": "code",
   "execution_count": 76,
   "metadata": {},
   "outputs": [],
   "source": [
    "from sklearn.metrics import classification_report, accuracy_score\n",
    "from sklearn.ensemble import IsolationForest\n",
    "from sklearn.neighbors import LocalOutlierFactor\n",
    "from sklearn.neighbors import KNeighborsClassifier\n"
   ]
  },
  {
   "cell_type": "code",
   "execution_count": 78,
   "metadata": {},
   "outputs": [],
   "source": [
    "# define random state\n",
    "state = 0\n",
    "\n",
    "# define classifier\n",
    "classifiers = {\n",
    "    'Isolation Forest': IsolationForest(max_samples= len(X),\n",
    "                                       contamination= 0.5, #outlier_frac,\n",
    "                                       random_state = state),\n",
    "    'Local Outlier Factor': LocalOutlierFactor(\n",
    "    n_neighbors = 20,\n",
    "    contamination = 0.5), #outlier_frac)    \n",
    "    'K Neighbors Classifier': KNeighborsClassifier()\n",
    "}"
   ]
  },
  {
   "cell_type": "code",
   "execution_count": 83,
   "metadata": {},
   "outputs": [
    {
     "data": {
      "text/plain": [
       "(768,)"
      ]
     },
     "execution_count": 83,
     "metadata": {},
     "output_type": "execute_result"
    }
   ],
   "source": [
    "y.shape"
   ]
  },
  {
   "cell_type": "code",
   "execution_count": 96,
   "metadata": {},
   "outputs": [
    {
     "name": "stdout",
     "output_type": "stream",
     "text": [
      "Isolation Forest: 482\n",
      "0.3723958333333333\n",
      "              precision    recall  f1-score   support\n",
      "\n",
      "           0       0.52      0.40      0.45       500\n",
      "           1       0.22      0.32      0.26       268\n",
      "\n",
      "    accuracy                           0.37       768\n",
      "   macro avg       0.37      0.36      0.36       768\n",
      "weighted avg       0.42      0.37      0.39       768\n",
      "\n",
      "Confusion Matrix [[201 183]\n",
      " [299  85]]\n",
      "-----------------------------------------\n",
      "Local Outlier Factor: 416\n",
      "0.4583333333333333\n",
      "              precision    recall  f1-score   support\n",
      "\n",
      "           0       0.61      0.47      0.53       500\n",
      "           1       0.31      0.44      0.36       268\n",
      "\n",
      "    accuracy                           0.46       768\n",
      "   macro avg       0.46      0.45      0.45       768\n",
      "weighted avg       0.50      0.46      0.47       768\n",
      "\n",
      "Confusion Matrix [[234 150]\n",
      " [266 118]]\n",
      "-----------------------------------------\n",
      "K Neighbors Classifier: 416\n",
      "0.4583333333333333\n",
      "              precision    recall  f1-score   support\n",
      "\n",
      "           0       0.61      0.47      0.53       500\n",
      "           1       0.31      0.44      0.36       268\n",
      "\n",
      "    accuracy                           0.46       768\n",
      "   macro avg       0.46      0.45      0.45       768\n",
      "weighted avg       0.50      0.46      0.47       768\n",
      "\n",
      "Confusion Matrix [[234 150]\n",
      " [266 118]]\n",
      "-----------------------------------------\n"
     ]
    }
   ],
   "source": [
    "from sklearn.metrics import confusion_matrix\n",
    "from sklearn.metrics import plot_confusion_matrix\n",
    "\n",
    "# split data into train nad test sets for KneighborsClassifier\n",
    "np.random.seed(0)\n",
    "indices = np.random.permutation(len(X))\n",
    "# X_train = X[indices[:-10]]\n",
    "# y_train = y[indices[:-10]]\n",
    "# X_test = X[indices[-10:]]\n",
    "# y_test = y[indices[-10:]]\n",
    "\n",
    "\n",
    "# Fit the model\n",
    "n_outliers = len(diab_neg)\n",
    "\n",
    "for i, (clf_name, clf) in enumerate(classifiers.items()):\n",
    "    \n",
    "    # fit the data and tag the outliers\n",
    "    if clf_name == 'Local Outlier Factor':\n",
    "        y_pred = clf.fit_predict(X)\n",
    "        scores_pred = clf.negative_outlier_factor_\n",
    "    elif clf_name == 'Isolation Forest':\n",
    "        clf.fit(X)\n",
    "        scores_pred = clf.decision_function(X)\n",
    "        y_pred = clf.predict(X)\n",
    "#     elif clf_name == 'K Neighbors Classifier':\n",
    "#         XX = X_train\n",
    "#         yy = y_train\n",
    "#         clf.fit(XX, yy)\n",
    "        #print(y_pred = knn.predict(X_test))\n",
    "        #print(y_test)\n",
    "        \n",
    "        \n",
    "        \n",
    "    #reshape the prediction values to 1 for diabetes positive, 0 for diabetes negative\n",
    "    y_pred[y_pred == 1]= 1\n",
    "    y_pred[y_pred == 0]= 0\n",
    "    y_pred[y_pred == -1] = 0\n",
    "        \n",
    "    #calculate number of errors\n",
    "    n_errors = (y_pred != y).sum()\n",
    "    \n",
    "    #run classification metrics\n",
    "    print(f'{clf_name}: {n_errors}')\n",
    "    print(accuracy_score(y, y_pred))\n",
    "    print(classification_report(y, y_pred))\n",
    "    \n",
    "    # plot confusion matrix\n",
    "\n",
    "    #                predicted labels and true labels\n",
    "    print('Confusion Matrix', confusion_matrix(y_pred, y))\n",
    "    #plot_confusion_matrix(clf, X, y, cmap=plt.cm.Blues)\n",
    "    print('-----------------------------------------')"
   ]
  },
  {
   "cell_type": "code",
   "execution_count": null,
   "metadata": {},
   "outputs": [],
   "source": []
  },
  {
   "cell_type": "code",
   "execution_count": null,
   "metadata": {},
   "outputs": [],
   "source": []
  },
  {
   "cell_type": "code",
   "execution_count": null,
   "metadata": {},
   "outputs": [],
   "source": []
  },
  {
   "cell_type": "code",
   "execution_count": null,
   "metadata": {},
   "outputs": [],
   "source": [
    "### second dataset"
   ]
  },
  {
   "cell_type": "code",
   "execution_count": null,
   "metadata": {},
   "outputs": [],
   "source": [
    "# Import new dataset (UCI)\n",
    "\n",
    "diabetes2 = pd.read_csv('https://raw.githubusercontent.com/psalinas505/python-diabetes/main/diabetic_data.csv')"
   ]
  },
  {
   "cell_type": "code",
   "execution_count": null,
   "metadata": {},
   "outputs": [],
   "source": [
    "# Examine the new dataset (UCI)\n",
    "\n",
    "diabetes2.head()"
   ]
  },
  {
   "cell_type": "code",
   "execution_count": 8,
   "metadata": {},
   "outputs": [
    {
     "data": {
      "text/plain": [
       "(101766, 50)"
      ]
     },
     "execution_count": 8,
     "metadata": {},
     "output_type": "execute_result"
    }
   ],
   "source": [
    "diabetes2.shape"
   ]
  },
  {
   "cell_type": "code",
   "execution_count": null,
   "metadata": {},
   "outputs": [],
   "source": []
  },
  {
   "cell_type": "code",
   "execution_count": null,
   "metadata": {},
   "outputs": [],
   "source": []
  },
  {
   "cell_type": "code",
   "execution_count": null,
   "metadata": {},
   "outputs": [],
   "source": []
  },
  {
   "cell_type": "code",
   "execution_count": null,
   "metadata": {},
   "outputs": [],
   "source": []
  },
  {
   "cell_type": "code",
   "execution_count": null,
   "metadata": {},
   "outputs": [],
   "source": []
  },
  {
   "cell_type": "code",
   "execution_count": null,
   "metadata": {
    "id": "JMl9AHQ8oXyw"
   },
   "outputs": [],
   "source": [
    "# Find the dimensions of the data set using the panda Dataframes: ‘shape’ attribute\n",
    "\n",
    "\n",
    "\n"
   ]
  },
  {
   "cell_type": "markdown",
   "metadata": {
    "id": "8iQjYtOkexvZ"
   },
   "source": [
    "## Visualizations"
   ]
  },
  {
   "cell_type": "code",
   "execution_count": null,
   "metadata": {
    "id": "Ttu24w0polBk"
   },
   "outputs": [],
   "source": [
    "# Visualization of data"
   ]
  },
  {
   "cell_type": "code",
   "execution_count": null,
   "metadata": {
    "id": "GskKyH80edPI"
   },
   "outputs": [],
   "source": [
    "# Data Cleaning"
   ]
  },
  {
   "cell_type": "code",
   "execution_count": null,
   "metadata": {
    "id": "sxssHSwSefPH"
   },
   "outputs": [],
   "source": [
    "# Feature Engineering\n"
   ]
  },
  {
   "cell_type": "markdown",
   "metadata": {
    "id": "E21n4kqDe606"
   },
   "source": [
    "## Model Selection\n"
   ]
  },
  {
   "cell_type": "code",
   "execution_count": null,
   "metadata": {
    "id": "8U9sU8GxeorM"
   },
   "outputs": [],
   "source": [
    "# Model Selection\n"
   ]
  }
 ],
 "metadata": {
  "colab": {
   "authorship_tag": "ABX9TyMIC9MgOnBSpnRMk3hl3Jm2",
   "collapsed_sections": [],
   "include_colab_link": true,
   "name": "Python_Diabetes_PS-NN-BB.ipynb",
   "provenance": []
  },
  "kernelspec": {
   "display_name": "py39",
   "language": "python",
   "name": "py39"
  },
  "language_info": {
   "codemirror_mode": {
    "name": "ipython",
    "version": 3
   },
   "file_extension": ".py",
   "mimetype": "text/x-python",
   "name": "python",
   "nbconvert_exporter": "python",
   "pygments_lexer": "ipython3",
   "version": "3.9.0"
  }
 },
 "nbformat": 4,
 "nbformat_minor": 1
}
